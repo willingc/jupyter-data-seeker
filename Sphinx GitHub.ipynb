{
 "cells": [
  {
   "cell_type": "markdown",
   "metadata": {},
   "source": [
    "# Sphinx dev tracker\n",
    "\n",
    "This notebook uses the github3py project maintained by Ian Cordasco.\n",
    "\n",
    "This notebook is a starter notebook for finding information about repositories that are managed by the Jupyter team. Repos are from the Jupyter and IPython GitHub organizations."
   ]
  },
  {
   "cell_type": "code",
   "execution_count": null,
   "metadata": {},
   "outputs": [],
   "source": [
    "import getpass\n",
    "from github3 import login"
   ]
  },
  {
   "cell_type": "markdown",
   "metadata": {},
   "source": [
    "## GitHub User and Authorization\n",
    "\n",
    "Note: Be careful. Don't check in to version control your username and password."
   ]
  },
  {
   "cell_type": "code",
   "execution_count": null,
   "metadata": {},
   "outputs": [],
   "source": [
    "from github3 import authorize\n",
    "from getpass import getuser, getpass\n",
    "\n",
    "user = 'willingc'\n",
    "password = ''\n",
    "\n",
    "while not password:\n",
    "    password = getpass('Password for {0}: '.format(user))\n",
    "\n",
    "note = 'github3.py example app'\n",
    "note_url = 'http://example.com'\n",
    "scopes = ['user', 'repo']\n",
    "\n",
    "auth = authorize(user, password, scopes, note, note_url)\n",
    "\n",
    "with open(CREDENTIALS_FILE, 'w') as fd:\n",
    "    fd.write(auth.token + '\\n')\n",
    "    fd.write(auth.id)"
   ]
  },
  {
   "cell_type": "code",
   "execution_count": null,
   "metadata": {},
   "outputs": [],
   "source": [
    "user = 'willingc'"
   ]
  },
  {
   "cell_type": "code",
   "execution_count": null,
   "metadata": {},
   "outputs": [],
   "source": [
    "password = getpass.getpass()"
   ]
  },
  {
   "cell_type": "code",
   "execution_count": null,
   "metadata": {},
   "outputs": [],
   "source": [
    "gh = login(user, password)"
   ]
  },
  {
   "cell_type": "code",
   "execution_count": null,
   "metadata": {},
   "outputs": [],
   "source": [
    "print(gh)\n",
    "type(gh)"
   ]
  },
  {
   "cell_type": "code",
   "execution_count": null,
   "metadata": {},
   "outputs": [],
   "source": [
    "jupyter_seeker = gh"
   ]
  },
  {
   "cell_type": "code",
   "execution_count": null,
   "metadata": {},
   "outputs": [],
   "source": [
    "print(jupyter_seeker.user('willingc'))"
   ]
  },
  {
   "cell_type": "markdown",
   "metadata": {},
   "source": [
    "## Organizations"
   ]
  },
  {
   "cell_type": "code",
   "execution_count": null,
   "metadata": {},
   "outputs": [],
   "source": [
    "sphinx = gh.organization('sphinx-doc')"
   ]
  },
  {
   "cell_type": "markdown",
   "metadata": {},
   "source": [
    "## Repos in Organization"
   ]
  },
  {
   "cell_type": "code",
   "execution_count": null,
   "metadata": {},
   "outputs": [],
   "source": [
    "for repo in sphinx.iter_repos():\n",
    "    print(repo, repo.open_issues_count, repo.description)\n",
    "    repo.to_json"
   ]
  },
  {
   "cell_type": "markdown",
   "metadata": {},
   "source": [
    "## Jupyter Subprojects\n",
    "User Interface, Kernels, Formatting and conversion, Education, Deployment, Architecture"
   ]
  },
  {
   "cell_type": "code",
   "execution_count": null,
   "metadata": {},
   "outputs": [],
   "source": [
    "sub_jup_ui = ['jupyter/notebook', 'jupyter/jupyter_console', 'jupyter/qtconsole']\n",
    "sub_kernels = ['ipython/ipython', 'ipython/ipythonwidgets', 'ipython/ipyparallel']\n",
    "sub_formatting = ['jupyter/nbconvert', 'jupyter/nbformat']\n",
    "sub_education = ['jupyter/nbgrader']\n",
    "sub_deployment= ['jupyter/jupyterhub', 'jupyter/jupyter-drive', 'jupyter/nbviewer','jupyter/tmpnb', 'jupyter/tmpnb-deploy','jupyter/dockerspawner','jupyter/docker-stacks']\n",
    "sub_architecture = ['jupyter/jupyter_client', 'jupyter/jupyter_core']"
   ]
  },
  {
   "cell_type": "code",
   "execution_count": null,
   "metadata": {},
   "outputs": [],
   "source": [
    "for subproject in sub_jup_ui:\n",
    "    print(subproject)"
   ]
  },
  {
   "cell_type": "markdown",
   "metadata": {},
   "source": [
    "## Issues in a subproject repo"
   ]
  },
  {
   "cell_type": "code",
   "execution_count": null,
   "metadata": {},
   "outputs": [],
   "source": [
    "for issue in gh.iter_repo_issues('jupyter','notebook'):\n",
    "    if issue.state == 'open':\n",
    "        print(issue.number, issue.title)\n",
    "myissues = gh.iter_repo_issues('jupyter','notebook')"
   ]
  },
  {
   "cell_type": "code",
   "execution_count": null,
   "metadata": {},
   "outputs": [],
   "source": [
    "for issue in gh.iter_repo_issues(owner='jupyter', repository='jupyter'):\n",
    "    print(issue.number, issue.title)\n",
    "    print(issue.labels)\n",
    "    print(issue.created_at)\n",
    "    print(issue.updated_at)"
   ]
  },
  {
   "cell_type": "code",
   "execution_count": null,
   "metadata": {},
   "outputs": [],
   "source": [
    ""
   ]
  },
  {
   "cell_type": "markdown",
   "metadata": {},
   "source": [
    "## Issues in a Jupyter Repo"
   ]
  },
  {
   "cell_type": "code",
   "execution_count": null,
   "metadata": {},
   "outputs": [],
   "source": [
    "def list_issues(token, owner='jupyter', repo=repo):\n",
    "    for issue in token.iter_repo_issues(owner=owner, repository=repo):\n",
    "        if issue.state == 'open':\n",
    "            print(issue.number, issue.title)"
   ]
  },
  {
   "cell_type": "code",
   "execution_count": null,
   "metadata": {},
   "outputs": [],
   "source": [
    ""
   ]
  }
 ],
 "metadata": {
  "kernelspec": {
   "display_name": "Python 3",
   "language": "python",
   "name": "python3"
  },
  "language_info": {
   "codemirror_mode": {
    "name": "ipython",
    "version": 3.0
   },
   "file_extension": ".py",
   "mimetype": "text/x-python",
   "name": "python",
   "nbconvert_exporter": "python",
   "pygments_lexer": "ipython3",
   "version": "3.5.1"
  }
 },
 "nbformat": 4,
 "nbformat_minor": 0
}