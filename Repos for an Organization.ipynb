{
 "cells": [
  {
   "cell_type": "markdown",
   "metadata": {},
   "source": [
    "## Overview of an Organization\n",
    "This notebook uses the github3.py project to use the GitHub API in gathering information about an organization's repositories.\n",
    "\n",
    "To use: Set the ORGANIZATION to GitHub organization name. Authenticate via GitHub user/password or token to avoid rate limits. "
   ]
  },
  {
   "cell_type": "code",
   "execution_count": null,
   "metadata": {
    "collapsed": true
   },
   "outputs": [],
   "source": [
    "import github3\n",
    "import os"
   ]
  },
  {
   "cell_type": "code",
   "execution_count": null,
   "metadata": {
    "collapsed": true
   },
   "outputs": [],
   "source": [
    "# Set ORGANIZATION\n",
    "ORGANIZATION = 'jupyter'"
   ]
  },
  {
   "cell_type": "code",
   "execution_count": null,
   "metadata": {
    "collapsed": true
   },
   "outputs": [],
   "source": [
    "GH_NAME= os.environ.get('GH_NAME')\n",
    "GH_PASSWD = os.environ.get('GH_PASSWORD')\n",
    "GH_TOKEN = os.environ.get('GH_TOKEN')"
   ]
  },
  {
   "cell_type": "code",
   "execution_count": null,
   "metadata": {
    "collapsed": true
   },
   "outputs": [],
   "source": [
    "# Authenticate and get a github object for accessing API without rate limits\n",
    "gh = github3.login(GH_NAME, GH_PASSWD)"
   ]
  },
  {
   "cell_type": "markdown",
   "metadata": {},
   "source": [
    "### Repos"
   ]
  },
  {
   "cell_type": "code",
   "execution_count": null,
   "metadata": {
    "collapsed": true
   },
   "outputs": [],
   "source": [
    "# Get all repos of the ORGANIZATION\n",
    "repos = [r.refresh() for r in gh.repositories_by(ORGANIZATION)]"
   ]
  },
  {
   "cell_type": "markdown",
   "metadata": {},
   "source": [
    "#### Open Issue Counts"
   ]
  },
  {
   "cell_type": "code",
   "execution_count": null,
   "metadata": {
    "collapsed": false
   },
   "outputs": [],
   "source": [
    "print('{0:30} {1:20}'.format(\"Repository name\", \"Open Issues\"))\n",
    "print('{0:30} {1:20}'.format(\"---------------\", \"-----------\"))\n",
    "for repo in repos:\n",
    "    #print('%s: %d' % (repo.name, repo.open_issues_count))\n",
    "    print('{0:30} {1:3d}'.format(repo.name, repo.open_issues_count))"
   ]
  },
  {
   "cell_type": "markdown",
   "metadata": {},
   "source": [
    "#### Repo Creation Date and description"
   ]
  },
  {
   "cell_type": "code",
   "execution_count": null,
   "metadata": {
    "collapsed": false
   },
   "outputs": [],
   "source": [
    "import datetime\n",
    "print('{0:30} {1:25} {2:30}'.format(\"Repository name\", \"created\", \"Description\"))\n",
    "print('{0:30} {1:25} {2:30}'.format(\"---------------\", \"-------\", \"-----------\"))\n",
    "for repo in repos:\n",
    "    #print('%s: %d' % (repo.name, repo.open_issues_count))\n",
    "    print('{0:30} {1:25} {2:30}'.format(repo.name, str(repo.created_at), repo.description))"
   ]
  },
  {
   "cell_type": "code",
   "execution_count": null,
   "metadata": {
    "collapsed": false
   },
   "outputs": [],
   "source": []
  },
  {
   "cell_type": "code",
   "execution_count": null,
   "metadata": {
    "collapsed": false
   },
   "outputs": [],
   "source": []
  },
  {
   "cell_type": "code",
   "execution_count": null,
   "metadata": {
    "collapsed": false
   },
   "outputs": [],
   "source": [
    "dir(repo)"
   ]
  },
  {
   "cell_type": "code",
   "execution_count": null,
   "metadata": {
    "collapsed": true
   },
   "outputs": [],
   "source": []
  }
 ],
 "metadata": {
  "kernelspec": {
   "display_name": "Python 3",
   "language": "python",
   "name": "python3"
  },
  "language_info": {
   "codemirror_mode": {
    "name": "ipython",
    "version": 3
   },
   "file_extension": ".py",
   "mimetype": "text/x-python",
   "name": "python",
   "nbconvert_exporter": "python",
   "pygments_lexer": "ipython3",
   "version": "3.5.1"
  }
 },
 "nbformat": 4,
 "nbformat_minor": 0
}
