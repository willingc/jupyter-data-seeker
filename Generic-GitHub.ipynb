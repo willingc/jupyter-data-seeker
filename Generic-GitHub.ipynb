{
 "cells": [
  {
   "cell_type": "markdown",
   "metadata": {
    "extensions": {
     "jupyter_dashboards": {
      "version": 1,
      "views": {
       "grid_default": {
        "col": 0,
        "height": 6,
        "hidden": false,
        "row": 0,
        "width": 12
       },
       "report_default": {
        "hidden": false
       }
      }
     }
    },
    "nbpresent": {
     "id": "d268f147-2477-4f7d-a0e7-da33d533cbbb"
    }
   },
   "source": [
    "# GitHub Basics\n",
    "\n",
    "This notebook is a starter notebook for finding information about repositories that are managed by the Jupyter team."
   ]
  },
  {
   "cell_type": "code",
   "execution_count": null,
   "metadata": {
    "collapsed": false,
    "extensions": {
     "jupyter_dashboards": {
      "version": 1,
      "views": {
       "grid_default": {
        "hidden": true
       },
       "report_default": {
        "hidden": true
       }
      }
     }
    },
    "nbpresent": {
     "id": "0d8271e4-af2a-4441-9836-fad220468ff3"
    }
   },
   "outputs": [],
   "source": [
    "import github3\n",
    "import json\n",
    "from os.path import join\n",
    "import pprint\n",
    "import requests\n",
    "from urllib.parse import urljoin"
   ]
  },
  {
   "cell_type": "markdown",
   "metadata": {
    "extensions": {
     "jupyter_dashboards": {
      "version": 1,
      "views": {
       "grid_default": {
        "col": 0,
        "height": 4,
        "hidden": false,
        "row": 6,
        "width": 4
       },
       "report_default": {
        "hidden": false
       }
      }
     }
    },
    "nbpresent": {
     "id": "1d23bc30-bc50-4e68-8907-f941fe738a56"
    }
   },
   "source": [
    "## GitHub Authorization\n",
    "\n",
    "Note: Be careful. Don't check in to version control your username and password."
   ]
  },
  {
   "cell_type": "code",
   "execution_count": null,
   "metadata": {
    "collapsed": false,
    "extensions": {
     "jupyter_dashboards": {
      "version": 1,
      "views": {
       "grid_default": {
        "col": 4,
        "height": 4,
        "hidden": false,
        "row": 6,
        "width": 4
       },
       "report_default": {
        "hidden": false
       }
      }
     }
    },
    "nbpresent": {
     "id": "b7881ead-0bf8-4330-b4ff-80625d01a713"
    }
   },
   "outputs": [],
   "source": [
    "TOKEN=''\n",
    "gh = github3.login(token=TOKEN)\n",
    "type(gh)"
   ]
  },
  {
   "cell_type": "markdown",
   "metadata": {
    "extensions": {
     "jupyter_dashboards": {
      "version": 1,
      "views": {
       "grid_default": {
        "col": 8,
        "height": 4,
        "hidden": false,
        "row": 6,
        "width": 4
       },
       "report_default": {
        "hidden": false
       }
      }
     }
    },
    "nbpresent": {
     "id": "c14213ac-dde3-48d9-b792-668376606af3"
    }
   },
   "source": [
    "### Basic API request"
   ]
  },
  {
   "cell_type": "code",
   "execution_count": null,
   "metadata": {
    "collapsed": false
   },
   "outputs": [],
   "source": [
    "url = 'https://api.github.com/orgs/jupyterhub/repos'\n",
    "\n",
    "response = requests.get(url)\n",
    "if response.status_code != 200:\n",
    "    # This means something went wrong.\n",
    "    raise ApiError('GET /orgs/ {}'.format(resp.status_code))\n",
    "\n",
    "repos = response.json()\n",
    "pprint.pprint(repos)"
   ]
  },
  {
   "cell_type": "code",
   "execution_count": null,
   "metadata": {
    "collapsed": false
   },
   "outputs": [],
   "source": [
    "print('The total number of repos in the organization is {}'.format(len(repos)))"
   ]
  },
  {
   "cell_type": "code",
   "execution_count": null,
   "metadata": {
    "collapsed": false
   },
   "outputs": [],
   "source": [
    "# print repos\n",
    "print('{0:30s}      {1:20s}\\n'.format('Repository name', 'open_issues_count'))\n",
    "\n",
    "for num in range(0, len(repos)):\n",
    "    print('{0:30s}      {1:4d}\\n'.format(repos[num]['name'],  repos[num]['open_issues_count']))"
   ]
  },
  {
   "cell_type": "code",
   "execution_count": null,
   "metadata": {
    "collapsed": false,
    "extensions": {
     "jupyter_dashboards": {
      "version": 1,
      "views": {
       "grid_default": {
        "col": 8,
        "height": 76,
        "hidden": false,
        "row": 18,
        "width": 4
       },
       "report_default": {
        "hidden": false
       }
      }
     }
    },
    "nbpresent": {
     "id": "6ce8d1e6-1a8b-4a8d-a913-5a80345c7d35"
    }
   },
   "outputs": [],
   "source": [
    "for num in range(0, len(repos)):\n",
    "    print('{0:30s}      {1:50s}\\n'.format(repos[num]['name'], repos[num]['description']))"
   ]
  },
  {
   "cell_type": "code",
   "execution_count": null,
   "metadata": {
    "collapsed": false
   },
   "outputs": [],
   "source": [
    "print('{0:30s}      {1:20s}\\n'.format('Repository name', 'open_issues_count'))\n",
    "\n",
    "for num in range(0, len(repos)):\n",
    "    print('{0:30s}      {1:4d}  {2:20s}\\n'.format(repos[num]['name'], repos[num]['open_issues_count'], repos[num]['description']))"
   ]
  },
  {
   "cell_type": "markdown",
   "metadata": {
    "extensions": {
     "jupyter_dashboards": {
      "version": 1,
      "views": {
       "grid_default": {
        "col": 4,
        "height": 4,
        "hidden": false,
        "row": 48,
        "width": 4
       },
       "report_default": {
        "hidden": false
       }
      }
     }
    },
    "nbpresent": {
     "id": "02a0f5b9-9d2b-42cd-9648-922533b75a3e"
    }
   },
   "source": [
    "## Issues in an organization's repos"
   ]
  },
  {
   "cell_type": "code",
   "execution_count": null,
   "metadata": {
    "collapsed": false
   },
   "outputs": [],
   "source": [
    "def get_issues(my_org, my_repo):\n",
    "    for issue in gh.iter_repo_issues(owner=my_org, repository=my_repo):\n",
    "        print(issue.number, issue.title)    "
   ]
  },
  {
   "cell_type": "code",
   "execution_count": null,
   "metadata": {
    "collapsed": false,
    "extensions": {
     "jupyter_dashboards": {
      "version": 1,
      "views": {
       "grid_default": {
        "hidden": true
       },
       "report_default": {
        "hidden": true
       }
      }
     }
    },
    "nbpresent": {
     "id": "b0eee662-58f6-46d5-b029-fbdeb21824fa"
    },
    "scrolled": true
   },
   "outputs": [],
   "source": [
    "my_org = 'jupyterhub'\n",
    "my_repo = 'configurable-http-proxy'\n",
    "get_issues(my_org, my_repo)"
   ]
  },
  {
   "cell_type": "code",
   "execution_count": null,
   "metadata": {
    "collapsed": false
   },
   "outputs": [],
   "source": [
    "my_org = 'jupyterhub'\n",
    "my_repo = 'jupyterhub'\n",
    "get_issues(my_org, my_repo)"
   ]
  },
  {
   "cell_type": "code",
   "execution_count": null,
   "metadata": {
    "collapsed": false
   },
   "outputs": [],
   "source": [
    "subgroup={'authenticators':['oauthenticator', 'ldapauthenticator'],\n",
    "         'spawners':['dockerspawner', 'sudospawner', 'kubespawner', 'batchspawner', 'wrapspawner', 'systemdspawner'],\n",
    "         'deployments':['jupyterhub-deploy-docker', 'jupyterhub-deploy-teaching', 'jupyterhub-deploy-hpc', 'jupyterhub-example-kerberos'],\n",
    "         'fundamentals':['jupyterhub', 'configurable-http-proxy', 'hubshare', 'jupyterhub-labextension'],\n",
    "         'community':['jupyterhub-tutorial', 'jupyterhub-2016-workshop'],\n",
    "        }"
   ]
  },
  {
   "cell_type": "code",
   "execution_count": null,
   "metadata": {
    "collapsed": false
   },
   "outputs": [],
   "source": [
    "print(subgroup['authenticators'])"
   ]
  },
  {
   "cell_type": "code",
   "execution_count": null,
   "metadata": {
    "collapsed": false
   },
   "outputs": [],
   "source": []
  },
  {
   "cell_type": "code",
   "execution_count": null,
   "metadata": {
    "collapsed": true
   },
   "outputs": [],
   "source": []
  }
 ],
 "metadata": {
  "anaconda-cloud": {},
  "extensions": {
   "jupyter_dashboards": {
    "activeView": "report_default",
    "version": 1,
    "views": {
     "grid_default": {
      "cellMargin": 10,
      "defaultCellHeight": 20,
      "maxColumns": 12,
      "name": "grid",
      "type": "grid"
     },
     "report_default": {
      "name": "report",
      "type": "report"
     }
    }
   }
  },
  "kernelspec": {
   "display_name": "Python 3",
   "language": "python",
   "name": "python3"
  },
  "language_info": {
   "codemirror_mode": {
    "name": "ipython",
    "version": 3
   },
   "file_extension": ".py",
   "mimetype": "text/x-python",
   "name": "python",
   "nbconvert_exporter": "python",
   "pygments_lexer": "ipython3",
   "version": "3.5.2"
  },
  "nbpresent": {
   "slides": {
    "006a001e-ddb9-4c33-98b7-43186804081b": {
     "id": "006a001e-ddb9-4c33-98b7-43186804081b",
     "prev": "3d1e35a7-5cfa-4349-bbce-8e8392f46c48",
     "regions": {
      "1f00f04d-47e8-44ff-9196-a36c4ffea523": {
       "attrs": {
        "height": 0.8,
        "width": 0.8,
        "x": 0.1,
        "y": 0.1
       },
       "content": {
        "cell": "005fc5b4-8022-41eb-847e-3d15c0b4306d",
        "part": "whole"
       },
       "id": "1f00f04d-47e8-44ff-9196-a36c4ffea523"
      }
     }
    },
    "00e301c2-be6f-4e2f-8305-6e15e5a0a1a2": {
     "id": "00e301c2-be6f-4e2f-8305-6e15e5a0a1a2",
     "prev": "e0734c75-0efc-4101-a31d-4af90e200851",
     "regions": {
      "0e798526-eac4-4c2e-a643-1b8289568a5d": {
       "attrs": {
        "height": 0.8,
        "width": 0.8,
        "x": 0.1,
        "y": 0.1
       },
       "content": {
        "cell": "6ce8d1e6-1a8b-4a8d-a913-5a80345c7d35",
        "part": "whole"
       },
       "id": "0e798526-eac4-4c2e-a643-1b8289568a5d"
      }
     }
    },
    "02ff4400-de94-4e46-a87e-a1eb936d0196": {
     "id": "02ff4400-de94-4e46-a87e-a1eb936d0196",
     "prev": "46bc8ba8-d678-4c95-94ba-e8a26165b054",
     "regions": {
      "eec72e66-182f-4a8c-9782-85cf3b55810e": {
       "attrs": {
        "height": 0.8,
        "width": 0.8,
        "x": 0.1,
        "y": 0.1
       },
       "content": {
        "cell": "605992c9-3863-42d0-b931-ad38564ec976",
        "part": "whole"
       },
       "id": "eec72e66-182f-4a8c-9782-85cf3b55810e"
      }
     }
    },
    "147dc73f-f03d-489f-ad0f-d8b4c5500b65": {
     "id": "147dc73f-f03d-489f-ad0f-d8b4c5500b65",
     "prev": "1f04d063-38f2-466c-96ac-904f0beb9dfc",
     "regions": {
      "ee7cfa66-66ab-4ee5-a296-15a49155ad0b": {
       "attrs": {
        "height": 0.8,
        "width": 0.8,
        "x": 0.1,
        "y": 0.1
       },
       "content": {
        "cell": "ea4537aa-0b0d-49f1-aa21-df24bced3fe5",
        "part": "whole"
       },
       "id": "ee7cfa66-66ab-4ee5-a296-15a49155ad0b"
      }
     }
    },
    "1a86e5a7-9a64-4aaa-bddc-47b93f2eb6e3": {
     "id": "1a86e5a7-9a64-4aaa-bddc-47b93f2eb6e3",
     "prev": "1c027313-2b02-4d13-b53d-cc7e271e4ddf",
     "regions": {
      "b6f5bbab-e2de-48f7-a63e-62ab39a6988e": {
       "attrs": {
        "height": 0.8,
        "width": 0.8,
        "x": 0.1,
        "y": 0.1
       },
       "content": {
        "cell": "716663bf-fe70-448a-ba34-929b44918bcf",
        "part": "whole"
       },
       "id": "b6f5bbab-e2de-48f7-a63e-62ab39a6988e"
      }
     }
    },
    "1c027313-2b02-4d13-b53d-cc7e271e4ddf": {
     "id": "1c027313-2b02-4d13-b53d-cc7e271e4ddf",
     "prev": "770ecbea-8b3c-474c-831c-21258eb19397",
     "regions": {
      "588e03d8-164e-4b1c-84a3-090b38388a25": {
       "attrs": {
        "height": 0.8,
        "width": 0.8,
        "x": 0.1,
        "y": 0.1
       },
       "content": {
        "cell": "6fb30800-c034-4685-95cd-87045fcccfe8",
        "part": "whole"
       },
       "id": "588e03d8-164e-4b1c-84a3-090b38388a25"
      }
     }
    },
    "1f04d063-38f2-466c-96ac-904f0beb9dfc": {
     "id": "1f04d063-38f2-466c-96ac-904f0beb9dfc",
     "prev": "b008027a-4352-4e0b-9dc8-6c7db959931a",
     "regions": {
      "3628a515-81fb-49ea-8ac3-1d81a8834e8c": {
       "attrs": {
        "height": 0.8,
        "width": 0.8,
        "x": 0.1,
        "y": 0.1
       },
       "content": {
        "cell": "885ed063-31cb-4da5-aa8a-7fcf58e55a19",
        "part": "whole"
       },
       "id": "3628a515-81fb-49ea-8ac3-1d81a8834e8c"
      }
     }
    },
    "2171e8a2-37b9-46e8-b321-130ce386874c": {
     "id": "2171e8a2-37b9-46e8-b321-130ce386874c",
     "prev": "7fda9848-db6d-42d4-a411-95fc05710596",
     "regions": {
      "99ed9200-a4c8-4b10-9cb1-0d7a6040085c": {
       "attrs": {
        "height": 0.8,
        "width": 0.8,
        "x": 0.1,
        "y": 0.1
       },
       "content": {
        "cell": "5b7ef187-071f-47fe-a844-e0af0b416045",
        "part": "whole"
       },
       "id": "99ed9200-a4c8-4b10-9cb1-0d7a6040085c"
      }
     }
    },
    "3d1e35a7-5cfa-4349-bbce-8e8392f46c48": {
     "id": "3d1e35a7-5cfa-4349-bbce-8e8392f46c48",
     "prev": "94807cdc-9509-4231-a5f7-5c38ba962c90",
     "regions": {
      "4f086b3b-5dd6-4d72-b8c3-04b4fa6f2273": {
       "attrs": {
        "height": 0.8,
        "width": 0.8,
        "x": 0.1,
        "y": 0.1
       },
       "content": {
        "cell": "0ced6b5b-d687-46b1-9366-4c445e09e3da",
        "part": "whole"
       },
       "id": "4f086b3b-5dd6-4d72-b8c3-04b4fa6f2273"
      }
     }
    },
    "46bc8ba8-d678-4c95-94ba-e8a26165b054": {
     "id": "46bc8ba8-d678-4c95-94ba-e8a26165b054",
     "prev": "2171e8a2-37b9-46e8-b321-130ce386874c",
     "regions": {
      "27d9ef0f-e265-4eec-a1ba-ce39158a69bc": {
       "attrs": {
        "height": 0.8,
        "width": 0.8,
        "x": 0.1,
        "y": 0.1
       },
       "content": {
        "cell": "77d62c46-2fac-4ac4-b7bf-4a805a5e0c80",
        "part": "whole"
       },
       "id": "27d9ef0f-e265-4eec-a1ba-ce39158a69bc"
      }
     }
    },
    "46ed6720-4e0f-4044-9a2f-ff2dd18c8904": {
     "id": "46ed6720-4e0f-4044-9a2f-ff2dd18c8904",
     "prev": "53843251-6d67-4454-a228-5ac48ff156b0",
     "regions": {
      "764513ea-165b-4578-973d-541b29a3def6": {
       "attrs": {
        "height": 0.8,
        "width": 0.8,
        "x": 0.1,
        "y": 0.1
       },
       "content": {
        "cell": "0d8271e4-af2a-4441-9836-fad220468ff3",
        "part": "whole"
       },
       "id": "764513ea-165b-4578-973d-541b29a3def6"
      }
     }
    },
    "53843251-6d67-4454-a228-5ac48ff156b0": {
     "id": "53843251-6d67-4454-a228-5ac48ff156b0",
     "prev": null,
     "regions": {
      "3e0db512-adcd-45ff-945f-c4b51c36ab7d": {
       "attrs": {
        "height": 0.8,
        "width": 0.8,
        "x": 0.1,
        "y": 0.1
       },
       "content": {
        "cell": "d268f147-2477-4f7d-a0e7-da33d533cbbb",
        "part": "whole"
       },
       "id": "3e0db512-adcd-45ff-945f-c4b51c36ab7d"
      }
     }
    },
    "5ad480b4-d760-4493-b1d7-67151a54a94e": {
     "id": "5ad480b4-d760-4493-b1d7-67151a54a94e",
     "prev": "1a86e5a7-9a64-4aaa-bddc-47b93f2eb6e3",
     "regions": {
      "06c7df5a-ee5f-4fb3-b759-6ebb8cc55803": {
       "attrs": {
        "height": 0.8,
        "width": 0.8,
        "x": 0.1,
        "y": 0.1
       },
       "content": {
        "cell": "26315fa9-f265-4021-b2ef-be82a06cdf8f",
        "part": "whole"
       },
       "id": "06c7df5a-ee5f-4fb3-b759-6ebb8cc55803"
      }
     }
    },
    "727aa82b-1828-4962-a845-33c82ce45124": {
     "id": "727aa82b-1828-4962-a845-33c82ce45124",
     "prev": "86f83bc0-6276-4c9a-8044-30cf587dcd2d",
     "regions": {
      "cbd0d91d-d2cc-4a7f-a389-c1ffb208e2ba": {
       "attrs": {
        "height": 0.8,
        "width": 0.8,
        "x": 0.1,
        "y": 0.1
       },
       "content": {
        "cell": "fa601571-274c-4f91-ac52-d5fa01e76160",
        "part": "whole"
       },
       "id": "cbd0d91d-d2cc-4a7f-a389-c1ffb208e2ba"
      }
     }
    },
    "744abfb6-214a-417c-b8f6-5fee9a0dc5a3": {
     "id": "744abfb6-214a-417c-b8f6-5fee9a0dc5a3",
     "prev": "d553e3f6-688c-466e-a965-a2d8dd20d79d",
     "regions": {
      "03e2ae46-8d4d-4f69-ae5c-fe62119278b1": {
       "attrs": {
        "height": 0.8,
        "width": 0.8,
        "x": 0.1,
        "y": 0.1
       },
       "content": {
        "cell": "99d84b63-51bb-4ae5-bf53-333b94c05ee1",
        "part": "whole"
       },
       "id": "03e2ae46-8d4d-4f69-ae5c-fe62119278b1"
      }
     }
    },
    "770ecbea-8b3c-474c-831c-21258eb19397": {
     "id": "770ecbea-8b3c-474c-831c-21258eb19397",
     "prev": "006a001e-ddb9-4c33-98b7-43186804081b",
     "regions": {
      "bcab2a29-1935-46c3-819a-8a322b8047c4": {
       "attrs": {
        "height": 0.8,
        "width": 0.8,
        "x": 0.1,
        "y": 0.1
       },
       "content": {
        "cell": "987f1f51-eb2d-45a8-8b16-6973112af6af",
        "part": "whole"
       },
       "id": "bcab2a29-1935-46c3-819a-8a322b8047c4"
      }
     }
    },
    "7f820625-663f-4d6c-80b5-c93ac20df947": {
     "id": "7f820625-663f-4d6c-80b5-c93ac20df947",
     "prev": "f2c5465d-59b0-4a84-84a1-3293ef23cc9f",
     "regions": {
      "3eac612f-78fc-41ca-8c52-650ad5b77973": {
       "attrs": {
        "height": 0.8,
        "width": 0.8,
        "x": 0.1,
        "y": 0.1
       },
       "content": {
        "cell": "d5137346-739d-4551-bcf0-194e26fdb2d7",
        "part": "whole"
       },
       "id": "3eac612f-78fc-41ca-8c52-650ad5b77973"
      }
     }
    },
    "7fda9848-db6d-42d4-a411-95fc05710596": {
     "id": "7fda9848-db6d-42d4-a411-95fc05710596",
     "prev": "00e301c2-be6f-4e2f-8305-6e15e5a0a1a2",
     "regions": {
      "ff61dc4f-93c2-4264-96df-bb0d7ef97383": {
       "attrs": {
        "height": 0.8,
        "width": 0.8,
        "x": 0.1,
        "y": 0.1
       },
       "content": {
        "cell": "dec64a43-2ae8-4ba4-ae62-763dcc9a1d85",
        "part": "whole"
       },
       "id": "ff61dc4f-93c2-4264-96df-bb0d7ef97383"
      }
     }
    },
    "86f83bc0-6276-4c9a-8044-30cf587dcd2d": {
     "id": "86f83bc0-6276-4c9a-8044-30cf587dcd2d",
     "prev": "f2674508-386d-4432-ac53-6c35eec2a3ed",
     "regions": {
      "b4bf7d83-4d17-41fc-93b7-097b5b063da5": {
       "attrs": {
        "height": 0.8,
        "width": 0.8,
        "x": 0.1,
        "y": 0.1
       },
       "content": {
        "cell": "c14213ac-dde3-48d9-b792-668376606af3",
        "part": "whole"
       },
       "id": "b4bf7d83-4d17-41fc-93b7-097b5b063da5"
      }
     }
    },
    "8a76bbdc-fa92-4ba9-bc14-eafdbfcdcaf1": {
     "id": "8a76bbdc-fa92-4ba9-bc14-eafdbfcdcaf1",
     "prev": "c5dde160-8dd3-45d8-90df-48edb752b10d",
     "regions": {
      "206d3174-e5e8-4c01-a7f1-42b3e7353748": {
       "attrs": {
        "height": 0.8,
        "width": 0.8,
        "x": 0.1,
        "y": 0.1
       },
       "content": {
        "cell": "02a0f5b9-9d2b-42cd-9648-922533b75a3e",
        "part": "whole"
       },
       "id": "206d3174-e5e8-4c01-a7f1-42b3e7353748"
      }
     }
    },
    "94807cdc-9509-4231-a5f7-5c38ba962c90": {
     "id": "94807cdc-9509-4231-a5f7-5c38ba962c90",
     "prev": "727aa82b-1828-4962-a845-33c82ce45124",
     "regions": {
      "efe2abc4-27f6-43df-829f-8743c1d0b198": {
       "attrs": {
        "height": 0.8,
        "width": 0.8,
        "x": 0.1,
        "y": 0.1
       },
       "content": {
        "cell": "acfb618e-5b17-4822-bd5b-b91d04aa0fd6",
        "part": "whole"
       },
       "id": "efe2abc4-27f6-43df-829f-8743c1d0b198"
      }
     }
    },
    "b008027a-4352-4e0b-9dc8-6c7db959931a": {
     "id": "b008027a-4352-4e0b-9dc8-6c7db959931a",
     "prev": "744abfb6-214a-417c-b8f6-5fee9a0dc5a3",
     "regions": {
      "e2ed384a-397a-4fdf-b0f1-bbcda9e97ff2": {
       "attrs": {
        "height": 0.8,
        "width": 0.8,
        "x": 0.1,
        "y": 0.1
       },
       "content": {
        "cell": "1c8aee82-000e-4b4e-84d9-f672a81eafb3",
        "part": "whole"
       },
       "id": "e2ed384a-397a-4fdf-b0f1-bbcda9e97ff2"
      }
     }
    },
    "c0e757b4-8518-4ccb-af29-dc2e4dd47869": {
     "id": "c0e757b4-8518-4ccb-af29-dc2e4dd47869",
     "prev": "8a76bbdc-fa92-4ba9-bc14-eafdbfcdcaf1",
     "regions": {
      "d3a88f10-8769-4182-868a-f476299b826b": {
       "attrs": {
        "height": 0.8,
        "width": 0.8,
        "x": 0.1,
        "y": 0.1
       },
       "content": {
        "cell": "9e5a045b-40df-48b7-87c5-7edfecd89101",
        "part": "whole"
       },
       "id": "d3a88f10-8769-4182-868a-f476299b826b"
      }
     }
    },
    "c5dde160-8dd3-45d8-90df-48edb752b10d": {
     "id": "c5dde160-8dd3-45d8-90df-48edb752b10d",
     "prev": "02ff4400-de94-4e46-a87e-a1eb936d0196",
     "regions": {
      "9ac2e37f-a62c-4312-af3e-b7eaf957e202": {
       "attrs": {
        "height": 0.8,
        "width": 0.8,
        "x": 0.1,
        "y": 0.1
       },
       "content": {
        "cell": "36d3f5ca-f4f1-481c-9bfd-7c22de87e237",
        "part": "whole"
       },
       "id": "9ac2e37f-a62c-4312-af3e-b7eaf957e202"
      }
     }
    },
    "d54b09ff-96f5-4b4c-8114-c9be3c24a159": {
     "id": "d54b09ff-96f5-4b4c-8114-c9be3c24a159",
     "prev": "7f820625-663f-4d6c-80b5-c93ac20df947",
     "regions": {
      "0832ec8b-62ea-46b6-8b4c-00022a70a230": {
       "attrs": {
        "height": 0.8,
        "width": 0.8,
        "x": 0.1,
        "y": 0.1
       },
       "content": {
        "cell": "090caeff-a869-468a-ac84-4bda7248d36a",
        "part": "whole"
       },
       "id": "0832ec8b-62ea-46b6-8b4c-00022a70a230"
      }
     }
    },
    "d553e3f6-688c-466e-a965-a2d8dd20d79d": {
     "id": "d553e3f6-688c-466e-a965-a2d8dd20d79d",
     "prev": "c0e757b4-8518-4ccb-af29-dc2e4dd47869",
     "regions": {
      "ac6530df-8daf-4e39-ada0-67393d179fc7": {
       "attrs": {
        "height": 0.8,
        "width": 0.8,
        "x": 0.1,
        "y": 0.1
       },
       "content": {
        "cell": "b0eee662-58f6-46d5-b029-fbdeb21824fa",
        "part": "whole"
       },
       "id": "ac6530df-8daf-4e39-ada0-67393d179fc7"
      }
     }
    },
    "d8401dc8-550f-4789-ad65-6dfaf4926974": {
     "id": "d8401dc8-550f-4789-ad65-6dfaf4926974",
     "prev": "f8da7b46-91f0-47c6-b325-495a53f76f0d",
     "regions": {
      "cab77125-84d8-4b04-9d41-06a3ffae968b": {
       "attrs": {
        "height": 0.8,
        "width": 0.8,
        "x": 0.1,
        "y": 0.1
       },
       "content": {
        "cell": "8d11812d-678b-409b-a9c3-f32f7f5e903d",
        "part": "whole"
       },
       "id": "cab77125-84d8-4b04-9d41-06a3ffae968b"
      }
     }
    },
    "e0734c75-0efc-4101-a31d-4af90e200851": {
     "id": "e0734c75-0efc-4101-a31d-4af90e200851",
     "prev": "d54b09ff-96f5-4b4c-8114-c9be3c24a159",
     "regions": {
      "ad1f6ab1-1d0b-475d-80c8-1c86a4922605": {
       "attrs": {
        "height": 0.8,
        "width": 0.8,
        "x": 0.1,
        "y": 0.1
       },
       "content": {
        "cell": "fd674f70-5ac0-4b6a-a44a-dbffad19604f",
        "part": "whole"
       },
       "id": "ad1f6ab1-1d0b-475d-80c8-1c86a4922605"
      }
     }
    },
    "f2674508-386d-4432-ac53-6c35eec2a3ed": {
     "id": "f2674508-386d-4432-ac53-6c35eec2a3ed",
     "prev": "d8401dc8-550f-4789-ad65-6dfaf4926974",
     "regions": {
      "194f6c06-1b15-4964-96a0-589b5108e619": {
       "attrs": {
        "height": 0.8,
        "width": 0.8,
        "x": 0.1,
        "y": 0.1
       },
       "content": {
        "cell": "b7881ead-0bf8-4330-b4ff-80625d01a713",
        "part": "whole"
       },
       "id": "194f6c06-1b15-4964-96a0-589b5108e619"
      }
     }
    },
    "f2c5465d-59b0-4a84-84a1-3293ef23cc9f": {
     "id": "f2c5465d-59b0-4a84-84a1-3293ef23cc9f",
     "prev": "5ad480b4-d760-4493-b1d7-67151a54a94e",
     "regions": {
      "0da998b8-aacd-44c0-82a9-8c5bff151093": {
       "attrs": {
        "height": 0.8,
        "width": 0.8,
        "x": 0.1,
        "y": 0.1
       },
       "content": {
        "cell": "8d2913be-6e44-4a46-a66d-59823aae48a2",
        "part": "whole"
       },
       "id": "0da998b8-aacd-44c0-82a9-8c5bff151093"
      }
     }
    },
    "f8da7b46-91f0-47c6-b325-495a53f76f0d": {
     "id": "f8da7b46-91f0-47c6-b325-495a53f76f0d",
     "prev": "46ed6720-4e0f-4044-9a2f-ff2dd18c8904",
     "regions": {
      "fb75aff0-ada1-4f9e-af51-fbca5f716bfc": {
       "attrs": {
        "height": 0.8,
        "width": 0.8,
        "x": 0.1,
        "y": 0.1
       },
       "content": {
        "cell": "1d23bc30-bc50-4e68-8907-f941fe738a56",
        "part": "whole"
       },
       "id": "fb75aff0-ada1-4f9e-af51-fbca5f716bfc"
      }
     }
    }
   },
   "themes": {}
  }
 },
 "nbformat": 4,
 "nbformat_minor": 0
}
